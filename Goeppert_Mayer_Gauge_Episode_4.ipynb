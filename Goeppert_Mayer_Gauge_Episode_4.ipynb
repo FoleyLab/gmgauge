{
  "nbformat": 4,
  "nbformat_minor": 0,
  "metadata": {
    "colab": {
      "name": "Goeppert Mayer Gauge Episode 4.ipynb",
      "provenance": [],
      "collapsed_sections": [],
      "authorship_tag": "ABX9TyOKcKiozvWH3EkRNogvEg5B",
      "include_colab_link": true
    },
    "kernelspec": {
      "name": "python3",
      "display_name": "Python 3"
    }
  },
  "cells": [
    {
      "cell_type": "markdown",
      "metadata": {
        "id": "view-in-github",
        "colab_type": "text"
      },
      "source": [
        "<a href=\"https://colab.research.google.com/github/FoleyLab/gmgauge/blob/main/Goeppert_Mayer_Gauge_Episode_4.ipynb\" target=\"_parent\"><img src=\"https://colab.research.google.com/assets/colab-badge.svg\" alt=\"Open In Colab\"/></a>"
      ]
    },
    {
      "cell_type": "markdown",
      "metadata": {
        "id": "3UcRFo8z0WGa"
      },
      "source": [
        "Install WPTherml to get a few of it's built-in features"
      ]
    },
    {
      "cell_type": "code",
      "metadata": {
        "colab": {
          "base_uri": "https://localhost:8080/"
        },
        "id": "8RqDqWA8nJ8Z",
        "outputId": "b7e17e3e-9b2b-4db1-aebc-8d7e468a05fe"
      },
      "source": [
        "!pip install wptherml\n",
        "\n",
        "from wptherml.wpml import multilayer\n",
        "from wptherml.numlib import numlib\n",
        "from matplotlib import pyplot as plt\n",
        "import numpy as np\n",
        "\n"
      ],
      "execution_count": null,
      "outputs": [
        {
          "output_type": "stream",
          "text": [
            "Requirement already satisfied: wptherml in /usr/local/lib/python3.6/dist-packages (1.0.0)\n"
          ],
          "name": "stdout"
        }
      ]
    },
    {
      "cell_type": "markdown",
      "metadata": {
        "id": "czLCMZlX0dCC"
      },
      "source": [
        "We don't really care about the structure, we just want thermal emission in the THz regime (0.3 - 30 THz), which, in wavelengths, \n",
        "is about 10 microns to 1 mm.  We will first use Wien's displacement law to figure out the temperature where the Blackbody spectrum peaks in the middle of the THz regime.  \n",
        "Wien's displacement law is as follows:\n",
        "\n",
        "\\begin{equation}\n",
        "\\lambda_{peak} = \\frac{b}{T}\n",
        "\\end{equation}\n",
        "where $b = 2898 \\: \\mu m \\cdot K$.  We can re-arrange for the Temperature assuming we want $\\lambda_{peak} = 300 \\: \\mu m$, just to be really arbitrary!"
      ]
    },
    {
      "cell_type": "code",
      "metadata": {
        "colab": {
          "base_uri": "https://localhost:8080/"
        },
        "id": "-0MjX92K2rlg",
        "outputId": "a440dc9f-1b9e-4378-aa1d-18cd09dca25a"
      },
      "source": [
        "### let's use Wiens displacement law to figure out the temperature\n",
        "### where the wavelength peaks in the middle of the THz\n",
        "\n",
        "# this is Wiens displacement constant in microns * K\n",
        "b  = 2898. \n",
        "# This is Planck's constant in SI units, which we will use later!\n",
        "h = 6.626e-34\n",
        "# This is the Speed of light in SI units, which we will use later!\n",
        "c = 2.99e8\n",
        "# We can call 3e-4 m (300 microns) the middle of THz?\n",
        "lambda_middle = 300\n",
        "# Compute the temperature from Wien's law\n",
        "T_middle = b / lambda_middle\n",
        "print(\"The temperature at which the Blackbody spectrum peaks at 300 microns is\",T_middle, \"K\")\n"
      ],
      "execution_count": null,
      "outputs": [
        {
          "output_type": "stream",
          "text": [
            "The temperature at which the Blackbody spectrum peaks at 300 microns is 9.66 K\n"
          ],
          "name": "stdout"
        }
      ]
    },
    {
      "cell_type": "markdown",
      "metadata": {
        "id": "VQFFyS0o4O0N"
      },
      "source": [
        "Now we will just create an object that includes the blackbody spectrum across the THz spectrum at the temperature we just\n",
        "computed (stored in the variable `T_middle`)"
      ]
    },
    {
      "cell_type": "code",
      "metadata": {
        "colab": {
          "base_uri": "https://localhost:8080/",
          "height": 349
        },
        "id": "MkLqpzRjnmTR",
        "outputId": "7702549d-2128-40fa-8f87-157bb08e742a"
      },
      "source": [
        "### dictionary that stores basic properties \n",
        "### of the multilayer structure you want to simulate\n",
        "structure = {\n",
        "\n",
        "        'Lambda_List': [10e-6, 1e-3, 1000],\n",
        "        'Temperature': T_middle\n",
        "}\n",
        "\n",
        "### create the Thz object\n",
        "thz = multilayer(structure)\n",
        "\n",
        "### Compute the blackbody spectrum at this temperature across the THz range and plot it!\n",
        "thz.thermal_emission()\n",
        "plt.plot(thz.lambda_array, thz.BBs, 'red')\n",
        "plt.ylabel(\"Power Density (W / m^2 / m / sr)\")\n",
        "plt.xlabel(\"Wavelength (m)\")\n",
        "plt.show()\n",
        "\n"
      ],
      "execution_count": null,
      "outputs": [
        {
          "output_type": "stream",
          "text": [
            "  Thickness array not specified!\n",
            "  Proceeding with default structure - optically thick W! \n",
            "  Material array not specified!\n",
            "  Proceeding with default structure - optically thick W! \n"
          ],
          "name": "stdout"
        },
        {
          "output_type": "display_data",
          "data": {
            "image/png": "[encoded data removed]",
            "text/plain": [
              "<Figure size 432x288 with 1 Axes>"
            ]
          },
          "metadata": {
            "tags": [],
            "needs_background": "light"
          }
        }
      ]
    },
    {
      "cell_type": "markdown",
      "metadata": {
        "id": "d3m2NfDq4taF"
      },
      "source": [
        "Let's take the Blackbody spectrum (which has dimensions of a power per wavelength per unit solid angle per unit area of the emitting surface), and convert it into a photon flux density (which has dimensions of photon number per wavelength per unit solid angle per unit area of the emitting surface).  While we are at it, we can implicitly take care of the emission into a hemisphere (integral over all solid angles, see Equations 14-16 in [this document](https://github.com/FoleyLab/wptherml/blob/master/docs/Equations.pdf) for more details).  In summary, this conversion from power density to photon flux density is as follows:\n",
        "\\begin{equation}\n",
        "\\dot{N}(\\lambda, T) = \\pi \\frac{\\lambda}{h c} \\rho(\\lambda, T)\n",
        "\\end{equation},\n",
        "where $\\lambda$ is the wavelength, $h$ is Planck's constant, $c$ is the speed of light, and the factor of $\\pi$ arises from the integration over solid angles in the hemisphere.  We already defined these constants in an earlier cell, so we can get this photon flux density with a single line.  "
      ]
    },
    {
      "cell_type": "code",
      "metadata": {
        "id": "V9U3CEwD4trM"
      },
      "source": [
        "\n",
        "N_dot = np.pi * thz.BBs * thz.lambda_array/(h*c)\n"
      ],
      "execution_count": null,
      "outputs": []
    },
    {
      "cell_type": "markdown",
      "metadata": {
        "id": "Xt_9ZFqV74jf"
      },
      "source": [
        "To get the total number of photons emitted across the THz per unit area of the emitting surface, we will just need to integrate over the range of wavelengths in the THz:\n",
        "\\begin{equation}\n",
        "N_{photons}(T) = \\int_{10 \\mu m}^{1 mm} \\dot{N}(\\lambda, T) d\\lambda.\n",
        "\\end{equation}\n",
        "We can perform this integral using the `Integrate` function in WPTherml's `numlib` library, and the result will be in SI units (so photons / square meters).  From there, we can figure out how many square meters of emitting surface are required to get Avagadro's number of THz photon emitter per second simply as\n",
        "\\begin{equation}\n",
        "A = \\frac{N_A}{N_{photons}(T)} .\n",
        "\\end{equation}"
      ]
    },
    {
      "cell_type": "code",
      "metadata": {
        "colab": {
          "base_uri": "https://localhost:8080/"
        },
        "id": "-ccaVX7u8ygW",
        "outputId": "e0126d0b-041c-4f0b-898b-5bccab8c4ba2"
      },
      "source": [
        "N_photons = numlib.Integrate(p_fl, thz.lambda_array,10e-6,  1e-3)\n",
        "Na = 6.022e23\n",
        "area = Na/N_photons\n",
        "print(\"Area of the emitting surface required to emit 1 mole of THz photons per second is \",area, \"m^2\")\n"
      ],
      "execution_count": null,
      "outputs": [
        {
          "output_type": "stream",
          "text": [
            "Area of the emitting surface required to emit 1 mole of THz photons per second is  1895582.1677699138 m^2\n"
          ],
          "name": "stdout"
        }
      ]
    },
    {
      "cell_type": "markdown",
      "metadata": {
        "id": "ZOzKY3irwMNy"
      },
      "source": [
        "# Question 1:  If THz spectroscopy were a Stereolab song, which song would it be?\n",
        "a. Tone Burst (Transient Random-Noise Bursts with Announcements) \n",
        "\n",
        "b. Caledoscopic Gaze (Cobra and Phases)\n",
        "\n",
        "c. Refractions in the plastic pulse (Dots and Loops)\n",
        "\n",
        "d. Whisper Pitch (Single, appears on Fab Four Suture)\n",
        "\n",
        "# Question 2: At what temperature does the blackbody spectrum peak in the middle of the Thz regime\n",
        "\n",
        "a. 0.1 K\n",
        "\n",
        "b. 1 K\n",
        "\n",
        "c. 10 K\n",
        "\n",
        "d. 100 K\n",
        "\n",
        "# Question 3: How large does an emitting surface need to be to emit 1 mole of THz photons per second at 10 K?\n",
        "\n",
        "a. 1e0 sq meters\n",
        "\n",
        "b. 1e3 sq meters\n",
        "\n",
        "c. 1e6 sq meters\n",
        "\n",
        "d. 1e9 sq meters\n",
        "\n",
        "\n"
      ]
    }
  ]
}