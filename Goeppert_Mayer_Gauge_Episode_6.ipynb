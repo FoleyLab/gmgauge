{
 "cells": [
  {
   "cell_type": "markdown",
   "metadata": {
    "colab_type": "text",
    "id": "view-in-github"
   },
   "source": [
    "<a href=\"https://colab.research.google.com/github/FoleyLab/gmgauge/blob/main/Goepper_Mayer_Gauge_Episode_6.ipynb\" target=\"_parent\"><img src=\"https://colab.research.google.com/assets/colab-badge.svg\" alt=\"Open In Colab\"/></a>"
   ]
  },
  {
   "cell_type": "markdown",
   "metadata": {
    "id": "ErtqDYaI7_Tj"
   },
   "source": [
    "This notebook can be used to simulate a SPR biosensor substrate.  For a quick overview of how such a biosensor works, please see [this video](https://youtu.be/sM-VI3alvAI). \n",
    "\n",
    "This notebook will import the wptherml library, create a sensing substrate that includes a glass prism layer, a thin metal sensing layer, and a superstrate layer.  We will refer to the refractive index of the superstrate layer as $\\eta_S$, and we will assume it is real-valued and independent of wavelength (unlike the metal layer,\n",
    "which is complex and wavelength-dependent).  \n",
    "\n",
    "A key question that we can address by such a simulation is \"How sensitive is a given substrate?\".  The way we can quantify the \n",
    "sensitivity of an SPR biosensor is by the change in observed resonance angle with the change in the refractive index of the superstrate,\n",
    "\\begin{equation}\n",
    "S = \\frac{\\partial \\theta_R}{\\partial \\eta_S}.\n",
    "\\end{equation}\n",
    "The basic idea is that binding of an analyte (such as the SARS-COV-2 virus) in the superstrate layer to the metal layer (which\n",
    "can happen if the metal layer is appropriately functionalized) will \n",
    "increase the refractive index of the superstrate layer $\\eta_S$, which will then increase the resonance angle $\\theta_R$.\n",
    "\n",
    "One way to compute the sensitivity of a substrate is to compute the reflectance\n",
    "of a substrate where the superstrate layer has refractive index $\\eta_S$ \n",
    "and note the angle of the reflectance minimum angle $\\theta_R$, and then\n",
    "compute the reflectance of a substrate where the superstrate layer has a \n",
    "refractive index $\\eta_S + \\delta$, where $\\delta$ is some small number, and note the reflectance minimum angle $\\theta^{'}_R$.  The sensitivity can then \n",
    "be defined as\n",
    "\\begin{equation}\n",
    "S = \\frac{\\theta^{'}_R - \\theta_R}{\\delta}.\n",
    "\\end{equation}\n",
    "\n",
    "The following notebook will demonstrate such a series of \n",
    "calculations."
   ]
  },
  {
   "cell_type": "code",
   "execution_count": 2,
   "metadata": {
    "colab": {
     "base_uri": "https://localhost:8080/"
    },
    "id": "g78V-7SVfn7p",
    "outputId": "e48c108b-45fc-4934-c685-da00455d0830"
   },
   "outputs": [
    {
     "name": "stdout",
     "output_type": "stream",
     "text": [
      "Requirement already satisfied: wptherml==1.11b0 in /usr/local/lib/python3.6/dist-packages (1.11b0)\n"
     ]
    }
   ],
   "source": [
    "### Install wptherml - beta version supports additional materials! \n",
    "!pip install wptherml==1.11b0\n",
    "### Import WPTHERML class!\n",
    "from wptherml.wpml import multilayer\n",
    "### import pyplot and numpy for plotting and data analysis\n",
    "from matplotlib import pyplot as plt\n",
    "import numpy as np\n"
   ]
  },
  {
   "cell_type": "code",
   "execution_count": 4,
   "metadata": {
    "colab": {
     "base_uri": "https://localhost:8080/",
     "height": 330
    },
    "id": "QoC0pRwcSSGN",
    "outputId": "de26abaf-581f-46d6-e07c-25c54fb5bca4"
   },
   "outputs": [
    {
     "data": {
      "image/png": "[encoded data removed]",
      "text/plain": [
       "<Figure size 432x288 with 1 Axes>"
      ]
     },
     "metadata": {
      "needs_background": "light",
      "tags": []
     },
     "output_type": "display_data"
    },
    {
     "name": "stdout",
     "output_type": "stream",
     "text": [
      "Theta_R is  71.0 degrees\n",
      "Theta_R' is  72.50000000000001 degrees\n",
      "Sensitivity is  150.00000000000082 deg/RI unit\n"
     ]
    }
   ],
   "source": [
    "### Specify features of the sensing substrate you \n",
    "### want to simulate\n",
    "structure = {\n",
    "        ### Most materials are specified by their chemical formula\n",
    "        ### e.g. gold is 'Au' and glass is 'SiO2';\n",
    "        ### however, air is specified by 'Air'\n",
    "        'Material_List': ['SiO2', 'Au', 'Air'],\n",
    "\n",
    "        ### specify the thicknesses in meters for the middle layers\n",
    "        ### the terminal layers get a thickness of '0' for \n",
    "        ### reasons of convention\n",
    "        'Thickness_List': [0, 50e-9,  0],\n",
    "\n",
    "\n",
    "        ### specify the range of wavelengths you'd like to simulate\n",
    "        ### in meters... this is not terribly critical for the SPR \n",
    "        ### simulations because you will specify a specific wavelength later\n",
    "        ### when you compute the angle scan!\n",
    "        'Lambda_List': [200e-9, 1000e-9, 5000],\n",
    "\n",
    "        ### These keywords are not relevant for this calculation\n",
    "        'Gradient_List': [1],\n",
    "        'Temperature': 300\n",
    "        }\n",
    "\n",
    "### create two different substrates\n",
    "### we will call one blank and one sample\n",
    "spr_blank = multilayer(structure)\n",
    "### one with sample on it\n",
    "spr_sample = multilayer(structure)\n",
    "\n",
    "### define a refractive index of superstrate\n",
    "eta_S = 1.33+0j\n",
    "\n",
    "### define a small number delta to increase the RI of the superstrate by... \n",
    "### in practice, binding of an analyte to the funtionalized \n",
    "### surface will increase the effective refractive index above\n",
    "### the surface by a small amount.\n",
    "delta = 0.01\n",
    "\n",
    "\n",
    "### for the blank, make the superstrate layer (layer 2) have a RI of water\n",
    "spr_blank.layer_static_ri(2,eta_S)\n",
    "### for sample, make layer 2 have the RI of slightly larger than water\n",
    "spr_sample.layer_static_ri(2,eta_S + delta)\n",
    "\n",
    "### use the angular_fresnel method of the multilayer class to compute \n",
    "### the reflectivity vs angle for the gold_slab structure at a specified wavelength in meters\n",
    "spr_blank.angular_fresnel(650e-9)\n",
    "spr_sample.angular_fresnel(650e-9)\n",
    "\n",
    "\n",
    "\n",
    "### now we can plot the reflectance of the blank and the sample\n",
    "plt.plot(spr_blank.theta_array*180./np.pi, spr_blank.r_vs_theta, marker='o', label=\"Blank\")\n",
    "plt.plot(spr_blank.theta_array*180./np.pi, spr_sample.r_vs_theta, marker='o', label=\"Sample\")\n",
    "plt.xlabel(\"Angle of Incidence (degrees)\")\n",
    "plt.ylabel(\"Reflectivity (arb. units)\")\n",
    "plt.xlim(40,89)\n",
    "plt.legend()\n",
    "plt.show()\n",
    "\n",
    "### find the location of the minimum reflectance (theta_R) for the blank\n",
    "blank_min = np.argmin(spr_blank.r_vs_theta)\n",
    "### find the location of the minimum relflectance (theta_R) for the sample\n",
    "sample_min = np.argmin(spr_sample.r_vs_theta)\n",
    "\n",
    "### print out the minimum angle for the blank\n",
    "print(\"Theta_R is \",spr_blank.theta_array[blank_min] * 180/np.pi, \"degrees\")\n",
    "\n",
    "### print out the minimum angle for the sample\n",
    "print(\"Theta_R' is \",spr_blank.theta_array[sample_min] * 180/np.pi,\"degrees\")\n",
    "\n",
    "### compute the sensitivity and print it\n",
    "S = (spr_blank.theta_array[sample_min] - spr_blank.theta_array[blank_min]) * 180. / (np.pi * delta)\n",
    "print(\"Sensitivity is \",S, \"deg/RI unit\")"
   ]
  },
  {
   "cell_type": "markdown",
   "metadata": {
    "id": "0WBrm2nTizLl"
   },
   "source": [
    "### Question 1: \n",
    "How does the sensitivity compare if gold is used as the film material instead of silver?  How does the sensitivity compare if aluminum is used instead of silver?  Note that the material for the film layer can be changed through the \n",
    "\n",
    "`'Material_List': ['SiO2', 'Ag', 'Air'],` \n",
    "\n",
    "\n",
    "line, and that gold is specified by 'Au' and aluminum is specified by 'Al'.  Assume that the wavelength $\\lambda = 650$ nm for all materials.\n",
    "\n",
    "\n",
    "### Question 2: \n",
    "How does the sensitivity compare for silver if a the wavelength $\\lambda = 500$ nm?  How does the sensitivity for compare for silver if the wavelength $\\lambda = 800$ nm?  Note that the lines\n",
    "\n",
    "`spr_blank.angular_fresnel(650e-9)` \n",
    "\n",
    "and\n",
    "\n",
    "`spr_sample.angular_fresnel(650e-9)`\n",
    "\n",
    "set $\\lambda = 650$ nm.\n",
    "\n",
    "### Question 3: \n",
    "How does the sensitivity compare for silver if the film thickness is 20 nm instead of 50 nm?  How does the sensitivity compare for silver if the film thickness is 100 nm instead of 50 nm?  The film thickness is controlled through the line:\n",
    "\n",
    "`'Thickness_List': [0, 50e-9,  0],`\n",
    "\n",
    "\n",
    "\n",
    "\n"
   ]
  }
 ],
 "metadata": {
  "colab": {
   "authorship_tag": "ABX9TyMiaMMVTmLL2MZVq246jRph",
   "collapsed_sections": [],
   "include_colab_link": true,
   "name": "SPR_Biosensor.ipynb",
   "provenance": []
  },
  "kernelspec": {
   "display_name": "Python 3 (ipykernel)",
   "language": "python",
   "name": "python3"
  },
  "language_info": {
   "codemirror_mode": {
    "name": "ipython",
    "version": 3
   },
   "file_extension": ".py",
   "mimetype": "text/x-python",
   "name": "python",
   "nbconvert_exporter": "python",
   "pygments_lexer": "ipython3",
   "version": "3.9.13"
  }
 },
 "nbformat": 4,
 "nbformat_minor": 1
}
